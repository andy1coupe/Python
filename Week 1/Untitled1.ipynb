{
 "cells": [
  {
   "cell_type": "code",
   "execution_count": 1,
   "id": "0a6f1968",
   "metadata": {},
   "outputs": [],
   "source": [
    "sentance = 'hello world how are you?'"
   ]
  },
  {
   "cell_type": "code",
   "execution_count": 2,
   "id": "ef535cc5",
   "metadata": {},
   "outputs": [
    {
     "data": {
      "text/plain": [
       "'helloworldhowareyou?'"
      ]
     },
     "execution_count": 2,
     "metadata": {},
     "output_type": "execute_result"
    }
   ],
   "source": [
    "sentance.replace(' ','')"
   ]
  },
  {
   "cell_type": "code",
   "execution_count": 3,
   "id": "6e586c60",
   "metadata": {},
   "outputs": [],
   "source": [
    "name = 'flo'\n",
    "name2 = 'miguel'\n",
    "\n",
    "sentance1 = 'hellow my name is'"
   ]
  },
  {
   "cell_type": "code",
   "execution_count": 5,
   "id": "c2aa5e23",
   "metadata": {},
   "outputs": [
    {
     "data": {
      "text/plain": [
       "'hello my name is miguel'"
      ]
     },
     "execution_count": 5,
     "metadata": {},
     "output_type": "execute_result"
    }
   ],
   "source": [
    "f'hello my name is {name2}'"
   ]
  },
  {
   "cell_type": "code",
   "execution_count": 6,
   "id": "337a561f",
   "metadata": {},
   "outputs": [
    {
     "data": {
      "text/plain": [
       "'there are 4 lions and 5 giraffes in the zoo'"
      ]
     },
     "execution_count": 6,
     "metadata": {},
     "output_type": "execute_result"
    }
   ],
   "source": [
    "'there are {} lions and {} giraffes in the zoo'.format(4,5)"
   ]
  },
  {
   "cell_type": "code",
   "execution_count": 10,
   "id": "761ce625",
   "metadata": {},
   "outputs": [
    {
     "data": {
      "text/plain": [
       "'there are 4 lions and 5 giraffes in the zoo'"
      ]
     },
     "execution_count": 10,
     "metadata": {},
     "output_type": "execute_result"
    }
   ],
   "source": [
    "'there are {a} lions and {g} giraffes in the zoo'.format(g=5,a=4)"
   ]
  },
  {
   "cell_type": "code",
   "execution_count": 11,
   "id": "52b1ddc9",
   "metadata": {},
   "outputs": [
    {
     "name": "stdout",
     "output_type": "stream",
     "text": [
      "a-\n",
      "b-\n",
      "c-\n",
      "d-\n",
      "e-\n",
      "f-\n",
      "g-\n"
     ]
    }
   ],
   "source": [
    "for letter in 'abcdefg':\n",
    "    print(letter + '-')"
   ]
  },
  {
   "cell_type": "code",
   "execution_count": 12,
   "id": "6ea8549c",
   "metadata": {},
   "outputs": [
    {
     "name": "stdout",
     "output_type": "stream",
     "text": [
      "2\n",
      "3\n",
      "4\n",
      "5\n",
      "6\n",
      "7\n",
      "8\n",
      "9\n"
     ]
    }
   ],
   "source": [
    "for i in range (2,10):\n",
    "    print(i)"
   ]
  },
  {
   "cell_type": "code",
   "execution_count": 13,
   "id": "2d161c0a",
   "metadata": {},
   "outputs": [
    {
     "name": "stdout",
     "output_type": "stream",
     "text": [
      "0\n",
      "1\n",
      "2\n",
      "3\n",
      "4\n",
      "5\n",
      "6\n",
      "7\n",
      "8\n",
      "9\n"
     ]
    }
   ],
   "source": [
    "for i in range(20):\n",
    "    if i < 10:\n",
    "        print (i)\n",
    "    else:\n",
    "        break"
   ]
  },
  {
   "cell_type": "code",
   "execution_count": 14,
   "id": "452b4b80",
   "metadata": {},
   "outputs": [
    {
     "name": "stdout",
     "output_type": "stream",
     "text": [
      "0\n",
      "1\n",
      "2\n",
      "3\n",
      "4\n",
      "5\n",
      "6\n",
      "7\n",
      "8\n",
      "9\n",
      "15\n",
      "16\n",
      "17\n",
      "18\n",
      "19\n"
     ]
    }
   ],
   "source": [
    "for i in range(20):\n",
    "    if i < 10 or i > 14:\n",
    "        print(i)"
   ]
  },
  {
   "cell_type": "code",
   "execution_count": 15,
   "id": "4f945546",
   "metadata": {},
   "outputs": [
    {
     "name": "stdout",
     "output_type": "stream",
     "text": [
      "0\n",
      "1\n",
      "2\n",
      "3\n",
      "4\n",
      "5\n",
      "6\n",
      "7\n",
      "8\n",
      "9\n",
      "10, after continue\n",
      "11, after continue\n",
      "12, after continue\n",
      "13, after continue\n",
      "14, after continue\n",
      "15, after continue\n",
      "16, after continue\n",
      "17, after continue\n",
      "18, after continue\n",
      "19, after continue\n"
     ]
    }
   ],
   "source": [
    "for i in range(20):\n",
    "    if i < 10:\n",
    "        print(i)\n",
    "    else:\n",
    "        print (f'{i}, after continue')\n",
    "        continue"
   ]
  },
  {
   "cell_type": "code",
   "execution_count": 16,
   "id": "4e35ebb5",
   "metadata": {},
   "outputs": [
    {
     "name": "stdout",
     "output_type": "stream",
     "text": [
      "0\n",
      "0\n",
      "1\n",
      "1\n",
      "2\n",
      "2\n",
      "3\n",
      "3\n",
      "4\n",
      "4\n",
      "5\n",
      "5\n",
      "6\n",
      "6\n",
      "7\n",
      "7\n",
      "8\n",
      "8\n",
      "9\n",
      "9\n",
      "11\n",
      "12\n",
      "13\n",
      "14\n",
      "15\n",
      "16\n",
      "17\n",
      "18\n",
      "19\n"
     ]
    }
   ],
   "source": [
    "for i in range(20):\n",
    "    if i < 10:\n",
    "        print(i)\n",
    "    elif i == 10:\n",
    "        #print (f'{i}, after continue')\n",
    "        continue\n",
    "    print(i)"
   ]
  },
  {
   "cell_type": "code",
   "execution_count": 23,
   "id": "8bc61130",
   "metadata": {},
   "outputs": [],
   "source": [
    "from IPython.display import display, Image"
   ]
  },
  {
   "cell_type": "code",
   "execution_count": 22,
   "id": "a3236a7c",
   "metadata": {},
   "outputs": [],
   "source": [
    "from IPython.display import GeoJSON"
   ]
  },
  {
   "cell_type": "code",
   "execution_count": 26,
   "id": "ae3993bf",
   "metadata": {},
   "outputs": [
    {
     "data": {
      "image/png": "[encoded data removed]",
      "text/plain": [
       "<IPython.core.display.Image object>"
      ]
     },
     "metadata": {
      "image/png": {
       "width": 50
      }
     },
     "output_type": "display_data"
    }
   ],
   "source": [
    "urls = ['https://emojipedia-us.s3.dualstack.us-west-1.amazonaws.com/thumbs/240/microsoft/310/nerd-face_1f913.png']\n",
    "def img_displayer(url_lst):\n",
    "    for url in url_lst:\n",
    "        img = Image(url=url, width=50, embed=True)\n",
    "        display(img)\n",
    "img_displayer(urls)\n"
   ]
  },
  {
   "cell_type": "code",
   "execution_count": null,
   "id": "2cf0c719",
   "metadata": {},
   "outputs": [],
   "source": []
  }
 ],
 "metadata": {
  "kernelspec": {
   "display_name": "Python 3 (ipykernel)",
   "language": "python",
   "name": "python3"
  },
  "language_info": {
   "codemirror_mode": {
    "name": "ipython",
    "version": 3
   },
   "file_extension": ".py",
   "mimetype": "text/x-python",
   "name": "python",
   "nbconvert_exporter": "python",
   "pygments_lexer": "ipython3",
   "version": "3.9.13"
  }
 },
 "nbformat": 4,
 "nbformat_minor": 5
}
