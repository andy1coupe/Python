{
 "cells": [
  {
   "cell_type": "markdown",
   "id": "a68d7906",
   "metadata": {},
   "source": [
    "# 1 Lists"
   ]
  },
  {
   "cell_type": "markdown",
   "id": "b4e249cc",
   "metadata": {},
   "source": [
    "## semi structured data of dictionaries and lists"
   ]
  },
  {
   "cell_type": "code",
   "execution_count": 1,
   "id": "3d1a3fd3",
   "metadata": {},
   "outputs": [],
   "source": [
    "classroom= ['sian', 'john', 'roger', 'andy', 'cath', 'fede','lucas', 'miguel', 'pau']"
   ]
  },
  {
   "cell_type": "code",
   "execution_count": 2,
   "id": "7f19cb47",
   "metadata": {},
   "outputs": [],
   "source": [
    "#use our index to do anything eg. grab 5th value of the list.  remember lists start at 0"
   ]
  },
  {
   "cell_type": "code",
   "execution_count": 3,
   "id": "6d65082f",
   "metadata": {},
   "outputs": [
    {
     "data": {
      "text/plain": [
       "'cath'"
      ]
     },
     "execution_count": 3,
     "metadata": {},
     "output_type": "execute_result"
    }
   ],
   "source": [
    "classroom[4]"
   ]
  },
  {
   "cell_type": "code",
   "execution_count": 4,
   "id": "879e015c",
   "metadata": {},
   "outputs": [],
   "source": [
    "for i in range(len(classroom)):\n",
    "    cap_list=classroom[i].upper()"
   ]
  },
  {
   "cell_type": "code",
   "execution_count": 5,
   "id": "4afbfed5",
   "metadata": {},
   "outputs": [
    {
     "data": {
      "text/plain": [
       "9"
      ]
     },
     "execution_count": 5,
     "metadata": {},
     "output_type": "execute_result"
    }
   ],
   "source": [
    "(len(classroom))"
   ]
  },
  {
   "cell_type": "code",
   "execution_count": 6,
   "id": "0b8251b3",
   "metadata": {},
   "outputs": [
    {
     "data": {
      "text/plain": [
       "'PAU'"
      ]
     },
     "execution_count": 6,
     "metadata": {},
     "output_type": "execute_result"
    }
   ],
   "source": [
    "cap_list"
   ]
  },
  {
   "cell_type": "code",
   "execution_count": 7,
   "id": "155bd378",
   "metadata": {},
   "outputs": [
    {
     "data": {
      "text/plain": [
       "['sian', 'john', 'roger', 'andy', 'cath', 'fede', 'lucas', 'miguel', 'pau']"
      ]
     },
     "execution_count": 7,
     "metadata": {},
     "output_type": "execute_result"
    }
   ],
   "source": [
    "#list comprehension - when iterable target is a list\n",
    "classroom"
   ]
  },
  {
   "cell_type": "code",
   "execution_count": 8,
   "id": "03e94448",
   "metadata": {},
   "outputs": [],
   "source": [
    "j_list=[i for i in classroom if i.startswith('j')]"
   ]
  },
  {
   "cell_type": "code",
   "execution_count": 9,
   "id": "41f98ba0",
   "metadata": {},
   "outputs": [],
   "source": [
    "jlist=[i.startswith('j') for i in classroom]"
   ]
  },
  {
   "cell_type": "code",
   "execution_count": 10,
   "id": "2b0bef1b",
   "metadata": {},
   "outputs": [
    {
     "data": {
      "text/plain": [
       "['john']"
      ]
     },
     "execution_count": 10,
     "metadata": {},
     "output_type": "execute_result"
    }
   ],
   "source": [
    "j_list"
   ]
  },
  {
   "cell_type": "code",
   "execution_count": 11,
   "id": "4a4baad5",
   "metadata": {},
   "outputs": [],
   "source": [
    "upper_list=[i.upper() for i in classroom]"
   ]
  },
  {
   "cell_type": "code",
   "execution_count": 12,
   "id": "e87b8eba",
   "metadata": {},
   "outputs": [
    {
     "data": {
      "text/plain": [
       "['SIAN', 'JOHN', 'ROGER', 'ANDY', 'CATH', 'FEDE', 'LUCAS', 'MIGUEL', 'PAU']"
      ]
     },
     "execution_count": 12,
     "metadata": {},
     "output_type": "execute_result"
    }
   ],
   "source": [
    "upper_list"
   ]
  },
  {
   "cell_type": "code",
   "execution_count": 13,
   "id": "b56caee0",
   "metadata": {},
   "outputs": [],
   "source": [
    "# integer / index to select or iterate\n",
    "#list[int]\n",
    "#with these integers we cna slice the list\n",
    "#list [4:8]"
   ]
  },
  {
   "cell_type": "code",
   "execution_count": 14,
   "id": "b90999c9",
   "metadata": {},
   "outputs": [
    {
     "data": {
      "text/plain": [
       "['CATH', 'FEDE', 'LUCAS', 'MIGUEL']"
      ]
     },
     "execution_count": 14,
     "metadata": {},
     "output_type": "execute_result"
    }
   ],
   "source": [
    "upper_list[4:8]"
   ]
  },
  {
   "cell_type": "code",
   "execution_count": 15,
   "id": "4ea784ec",
   "metadata": {},
   "outputs": [
    {
     "data": {
      "text/plain": [
       "['SIAN', 'JOHN', 'ROGER', 'ANDY', 'CATH', 'FEDE', 'LUCAS', 'MIGUEL', 'PAU']"
      ]
     },
     "execution_count": 15,
     "metadata": {},
     "output_type": "execute_result"
    }
   ],
   "source": [
    "upper_list"
   ]
  },
  {
   "cell_type": "code",
   "execution_count": 16,
   "id": "b7536c5f",
   "metadata": {},
   "outputs": [],
   "source": [
    "# append a list\n",
    "# list.append('paupau')\n",
    "upper_list.append('PAUPAU')"
   ]
  },
  {
   "cell_type": "code",
   "execution_count": 17,
   "id": "166f8bf7",
   "metadata": {},
   "outputs": [
    {
     "data": {
      "text/plain": [
       "['SIAN',\n",
       " 'JOHN',\n",
       " 'ROGER',\n",
       " 'ANDY',\n",
       " 'CATH',\n",
       " 'FEDE',\n",
       " 'LUCAS',\n",
       " 'MIGUEL',\n",
       " 'PAU',\n",
       " 'PAUPAU']"
      ]
     },
     "execution_count": 17,
     "metadata": {},
     "output_type": "execute_result"
    }
   ],
   "source": [
    "upper_list"
   ]
  },
  {
   "cell_type": "code",
   "execution_count": 18,
   "id": "aa620da4",
   "metadata": {},
   "outputs": [],
   "source": [
    "upper_list.remove('PAUPAU')"
   ]
  },
  {
   "cell_type": "code",
   "execution_count": 19,
   "id": "76650b31",
   "metadata": {},
   "outputs": [
    {
     "data": {
      "text/plain": [
       "['SIAN', 'JOHN', 'ROGER', 'ANDY', 'CATH', 'FEDE', 'LUCAS', 'MIGUEL', 'PAU']"
      ]
     },
     "execution_count": 19,
     "metadata": {},
     "output_type": "execute_result"
    }
   ],
   "source": [
    "upper_list"
   ]
  },
  {
   "cell_type": "markdown",
   "id": "7700baee",
   "metadata": {},
   "source": [
    "# 2 Dictionaries"
   ]
  },
  {
   "cell_type": "code",
   "execution_count": 20,
   "id": "c3b72484",
   "metadata": {},
   "outputs": [],
   "source": [
    "topics={1:'pandas', 2:'sql', 3:'tableau', 4:'agile'}"
   ]
  },
  {
   "cell_type": "code",
   "execution_count": 21,
   "id": "3f3d4411",
   "metadata": {},
   "outputs": [
    {
     "data": {
      "text/plain": [
       "'pandas'"
      ]
     },
     "execution_count": 21,
     "metadata": {},
     "output_type": "execute_result"
    }
   ],
   "source": [
    "topics[1] #using the key to select"
   ]
  },
  {
   "cell_type": "code",
   "execution_count": 22,
   "id": "420128e0",
   "metadata": {},
   "outputs": [
    {
     "data": {
      "text/plain": [
       "dict_keys([1, 2, 3, 4])"
      ]
     },
     "execution_count": 22,
     "metadata": {},
     "output_type": "execute_result"
    }
   ],
   "source": [
    "topics.keys() #review keys of the dictionary"
   ]
  },
  {
   "cell_type": "code",
   "execution_count": 23,
   "id": "e0777528",
   "metadata": {},
   "outputs": [],
   "source": [
    "topics[5]='json'  # add a new value to a key pair"
   ]
  },
  {
   "cell_type": "code",
   "execution_count": 24,
   "id": "d631a5d7",
   "metadata": {},
   "outputs": [
    {
     "data": {
      "text/plain": [
       "{1: 'pandas', 2: 'sql', 3: 'tableau', 4: 'agile', 5: 'json'}"
      ]
     },
     "execution_count": 24,
     "metadata": {},
     "output_type": "execute_result"
    }
   ],
   "source": [
    "topics"
   ]
  },
  {
   "cell_type": "code",
   "execution_count": 25,
   "id": "1f5a8d0f",
   "metadata": {},
   "outputs": [
    {
     "data": {
      "text/plain": [
       "dict_values(['pandas', 'sql', 'tableau', 'agile', 'json'])"
      ]
     },
     "execution_count": 25,
     "metadata": {},
     "output_type": "execute_result"
    }
   ],
   "source": [
    "topics.values()"
   ]
  },
  {
   "cell_type": "code",
   "execution_count": 26,
   "id": "77e79045",
   "metadata": {},
   "outputs": [
    {
     "name": "stdout",
     "output_type": "stream",
     "text": [
      "pandas\n",
      "sql\n",
      "tableau\n",
      "agile\n",
      "json\n"
     ]
    }
   ],
   "source": [
    "for value in topics.values():\\\n",
    "    print(value)"
   ]
  },
  {
   "cell_type": "code",
   "execution_count": 27,
   "id": "1b0b45bb",
   "metadata": {},
   "outputs": [
    {
     "name": "stdout",
     "output_type": "stream",
     "text": [
      "1\n",
      "2\n",
      "3\n",
      "4\n",
      "5\n"
     ]
    }
   ],
   "source": [
    "for key in topics.keys():\n",
    "    print(key)"
   ]
  },
  {
   "cell_type": "code",
   "execution_count": 28,
   "id": "1b48d62a",
   "metadata": {},
   "outputs": [
    {
     "name": "stdout",
     "output_type": "stream",
     "text": [
      "1 .... pandas\n",
      "2 .... sql\n",
      "3 .... tableau\n",
      "4 .... agile\n",
      "5 .... json\n"
     ]
    }
   ],
   "source": [
    "for key, value in topics.items():\n",
    "    print(key, '....', value)"
   ]
  },
  {
   "cell_type": "markdown",
   "id": "9c9c30b6",
   "metadata": {},
   "source": [
    "# 3 Nested Lists"
   ]
  },
  {
   "cell_type": "code",
   "execution_count": 29,
   "id": "1d8c2e2b",
   "metadata": {},
   "outputs": [],
   "source": [
    "#can see its nested with three sets of open and closed brackets - three seperate lists\n",
    "\n",
    "sians_class=[['sian', 'john'],\n",
    "             ['roger','cath','fede','lucas', 'miguel','andy'],\n",
    "             ['pau']]\n"
   ]
  },
  {
   "cell_type": "code",
   "execution_count": 30,
   "id": "9e614113",
   "metadata": {},
   "outputs": [
    {
     "data": {
      "text/plain": [
       "'s'"
      ]
     },
     "execution_count": 30,
     "metadata": {},
     "output_type": "execute_result"
    }
   ],
   "source": [
    "sians_class[0][0][0]   #showing first letter, of the first word, of the first list"
   ]
  },
  {
   "cell_type": "code",
   "execution_count": 31,
   "id": "5280ec09",
   "metadata": {},
   "outputs": [
    {
     "data": {
      "text/plain": [
       "['sian', 'john']"
      ]
     },
     "execution_count": 31,
     "metadata": {},
     "output_type": "execute_result"
    }
   ],
   "source": [
    "sians_class[0]"
   ]
  },
  {
   "cell_type": "code",
   "execution_count": 32,
   "id": "af8ca753",
   "metadata": {},
   "outputs": [],
   "source": [
    "my_family=['leri','aled', 'david',\n",
    "          ['gilly', ['jack'],'sian'], \n",
    "           'carole',['tracy']]"
   ]
  },
  {
   "cell_type": "code",
   "execution_count": 33,
   "id": "17c7cc8b",
   "metadata": {},
   "outputs": [
    {
     "name": "stdout",
     "output_type": "stream",
     "text": [
      "my nephew is jack\n"
     ]
    }
   ],
   "source": [
    "print('my nephew is ' + my_family[3][1][0])"
   ]
  },
  {
   "cell_type": "code",
   "execution_count": 34,
   "id": "67844098",
   "metadata": {},
   "outputs": [
    {
     "data": {
      "text/plain": [
       "'jack'"
      ]
     },
     "execution_count": 34,
     "metadata": {},
     "output_type": "execute_result"
    }
   ],
   "source": [
    "my_family[3][1][0]"
   ]
  },
  {
   "cell_type": "markdown",
   "id": "9bc966f0",
   "metadata": {},
   "source": [
    "# 4 Nested Dictionaries"
   ]
  },
  {
   "cell_type": "code",
   "execution_count": 35,
   "id": "f1f25084",
   "metadata": {},
   "outputs": [],
   "source": [
    "shapes={\n",
    "    1:{'colour':'blue', 'shape':'circle', 'sides':'1'}\n",
    "    ,\n",
    "    2:{'colour':'orange', 'shape':'triangle', 'sides':'3'}\n",
    "    ,\n",
    "    3:{'colour':'green', 'shape':'square', 'sides':'4'}\n",
    "}"
   ]
  },
  {
   "cell_type": "code",
   "execution_count": 36,
   "id": "6f65f718",
   "metadata": {},
   "outputs": [
    {
     "data": {
      "text/plain": [
       "{1: {'colour': 'blue', 'shape': 'circle', 'sides': '1'},\n",
       " 2: {'colour': 'orange', 'shape': 'triangle', 'sides': '3'},\n",
       " 3: {'colour': 'green', 'shape': 'square', 'sides': '4'}}"
      ]
     },
     "execution_count": 36,
     "metadata": {},
     "output_type": "execute_result"
    }
   ],
   "source": [
    "shapes"
   ]
  },
  {
   "cell_type": "code",
   "execution_count": 37,
   "id": "05cbcd77",
   "metadata": {},
   "outputs": [
    {
     "name": "stdout",
     "output_type": "stream",
     "text": [
      "4\n"
     ]
    }
   ],
   "source": [
    "print(shapes[3]['sides'])"
   ]
  },
  {
   "cell_type": "code",
   "execution_count": 38,
   "id": "b78b267b",
   "metadata": {},
   "outputs": [
    {
     "name": "stdout",
     "output_type": "stream",
     "text": [
      "blue\n"
     ]
    }
   ],
   "source": [
    "print(shapes[1]['colour'])"
   ]
  },
  {
   "cell_type": "code",
   "execution_count": 39,
   "id": "a451e86d",
   "metadata": {},
   "outputs": [
    {
     "name": "stdout",
     "output_type": "stream",
     "text": [
      "triangle\n"
     ]
    }
   ],
   "source": [
    "print(shapes[2]['shape'])"
   ]
  },
  {
   "cell_type": "code",
   "execution_count": 40,
   "id": "6d425edb",
   "metadata": {},
   "outputs": [
    {
     "data": {
      "text/plain": [
       "dict_keys(['colour', 'shape', 'sides'])"
      ]
     },
     "execution_count": 40,
     "metadata": {},
     "output_type": "execute_result"
    }
   ],
   "source": [
    "shapes[2].keys()"
   ]
  },
  {
   "cell_type": "markdown",
   "id": "ed50c45e",
   "metadata": {},
   "source": [
    "# 5 Json objects"
   ]
  },
  {
   "cell_type": "code",
   "execution_count": 41,
   "id": "dba266de",
   "metadata": {},
   "outputs": [],
   "source": [
    "import json"
   ]
  },
  {
   "cell_type": "code",
   "execution_count": 42,
   "id": "2fdb02cb",
   "metadata": {},
   "outputs": [],
   "source": [
    "json_1=json.load(open('example_1.json'))"
   ]
  },
  {
   "cell_type": "code",
   "execution_count": 43,
   "id": "83206f07",
   "metadata": {},
   "outputs": [
    {
     "data": {
      "text/plain": [
       "{'fruit': 'Apple', 'size': 'Large', 'color': 'Red'}"
      ]
     },
     "execution_count": 43,
     "metadata": {},
     "output_type": "execute_result"
    }
   ],
   "source": [
    "json_1   #normal dictionary"
   ]
  },
  {
   "cell_type": "code",
   "execution_count": 44,
   "id": "ffb5e678",
   "metadata": {},
   "outputs": [],
   "source": [
    "json_2=json.load(open('example_2.json'))  #dictionary with nested list inside"
   ]
  },
  {
   "cell_type": "code",
   "execution_count": 45,
   "id": "5d08a8b1",
   "metadata": {},
   "outputs": [
    {
     "data": {
      "text/plain": [
       "{'quiz': {'sport': {'q1': {'question': 'Which one is correct team name in NBA?',\n",
       "    'options': ['New York Bulls',\n",
       "     'Los Angeles Kings',\n",
       "     'Golden State Warriros',\n",
       "     'Huston Rocket'],\n",
       "    'answer': 'Huston Rocket'}},\n",
       "  'maths': {'q1': {'question': '5 + 7 = ?',\n",
       "    'options': ['10', '11', '12', '13'],\n",
       "    'answer': '12'},\n",
       "   'q2': {'question': '12 - 8 = ?',\n",
       "    'options': ['1', '2', '3', '4'],\n",
       "    'answer': '4'}}}}"
      ]
     },
     "execution_count": 45,
     "metadata": {},
     "output_type": "execute_result"
    }
   ],
   "source": [
    "json_2"
   ]
  },
  {
   "cell_type": "code",
   "execution_count": 46,
   "id": "b6fd6423",
   "metadata": {},
   "outputs": [],
   "source": [
    "json_4=json.load(open('sample4.json'))  "
   ]
  },
  {
   "cell_type": "code",
   "execution_count": 47,
   "id": "f6f72fd8",
   "metadata": {},
   "outputs": [
    {
     "data": {
      "text/plain": [
       "{'people': [{'firstName': 'Joe',\n",
       "   'lastName': 'Jackson',\n",
       "   'gender': 'male',\n",
       "   'age': 28,\n",
       "   'number': '7349282382'},\n",
       "  {'firstName': 'James',\n",
       "   'lastName': 'Smith',\n",
       "   'gender': 'male',\n",
       "   'age': 32,\n",
       "   'number': '5678568567'},\n",
       "  {'firstName': 'Emily',\n",
       "   'lastName': 'Jones',\n",
       "   'gender': 'female',\n",
       "   'age': 24,\n",
       "   'number': '456754675'}]}"
      ]
     },
     "execution_count": 47,
     "metadata": {},
     "output_type": "execute_result"
    }
   ],
   "source": [
    "json_4"
   ]
  },
  {
   "cell_type": "code",
   "execution_count": 48,
   "id": "3fbf0d4f",
   "metadata": {},
   "outputs": [],
   "source": [
    "#prettify the json code - makes it more readable than the output above \n",
    "\n",
    "json_formatted=json.dumps(json_4, indent=2)"
   ]
  },
  {
   "cell_type": "code",
   "execution_count": 49,
   "id": "217ebd2e",
   "metadata": {},
   "outputs": [
    {
     "name": "stdout",
     "output_type": "stream",
     "text": [
      "{\n",
      "  \"people\": [\n",
      "    {\n",
      "      \"firstName\": \"Joe\",\n",
      "      \"lastName\": \"Jackson\",\n",
      "      \"gender\": \"male\",\n",
      "      \"age\": 28,\n",
      "      \"number\": \"7349282382\"\n",
      "    },\n",
      "    {\n",
      "      \"firstName\": \"James\",\n",
      "      \"lastName\": \"Smith\",\n",
      "      \"gender\": \"male\",\n",
      "      \"age\": 32,\n",
      "      \"number\": \"5678568567\"\n",
      "    },\n",
      "    {\n",
      "      \"firstName\": \"Emily\",\n",
      "      \"lastName\": \"Jones\",\n",
      "      \"gender\": \"female\",\n",
      "      \"age\": 24,\n",
      "      \"number\": \"456754675\"\n",
      "    }\n",
      "  ]\n",
      "}\n"
     ]
    }
   ],
   "source": [
    "print(json_formatted)"
   ]
  },
  {
   "cell_type": "code",
   "execution_count": 50,
   "id": "f5720d70",
   "metadata": {},
   "outputs": [],
   "source": [
    "json_formatted=json.dumps(json_2, indent=2) #make json more readable as above"
   ]
  },
  {
   "cell_type": "code",
   "execution_count": 51,
   "id": "4ba6c491",
   "metadata": {},
   "outputs": [
    {
     "name": "stdout",
     "output_type": "stream",
     "text": [
      "{\n",
      "  \"quiz\": {\n",
      "    \"sport\": {\n",
      "      \"q1\": {\n",
      "        \"question\": \"Which one is correct team name in NBA?\",\n",
      "        \"options\": [\n",
      "          \"New York Bulls\",\n",
      "          \"Los Angeles Kings\",\n",
      "          \"Golden State Warriros\",\n",
      "          \"Huston Rocket\"\n",
      "        ],\n",
      "        \"answer\": \"Huston Rocket\"\n",
      "      }\n",
      "    },\n",
      "    \"maths\": {\n",
      "      \"q1\": {\n",
      "        \"question\": \"5 + 7 = ?\",\n",
      "        \"options\": [\n",
      "          \"10\",\n",
      "          \"11\",\n",
      "          \"12\",\n",
      "          \"13\"\n",
      "        ],\n",
      "        \"answer\": \"12\"\n",
      "      },\n",
      "      \"q2\": {\n",
      "        \"question\": \"12 - 8 = ?\",\n",
      "        \"options\": [\n",
      "          \"1\",\n",
      "          \"2\",\n",
      "          \"3\",\n",
      "          \"4\"\n",
      "        ],\n",
      "        \"answer\": \"4\"\n",
      "      }\n",
      "    }\n",
      "  }\n",
      "}\n"
     ]
    }
   ],
   "source": [
    "print(json_formatted)"
   ]
  },
  {
   "cell_type": "code",
   "execution_count": null,
   "id": "4e3a5e8e",
   "metadata": {},
   "outputs": [],
   "source": []
  },
  {
   "cell_type": "code",
   "execution_count": null,
   "id": "d5819725",
   "metadata": {},
   "outputs": [],
   "source": []
  }
 ],
 "metadata": {
  "kernelspec": {
   "display_name": "Python 3",
   "language": "python",
   "name": "python3"
  },
  "language_info": {
   "codemirror_mode": {
    "name": "ipython",
    "version": 3
   },
   "file_extension": ".py",
   "mimetype": "text/x-python",
   "name": "python",
   "nbconvert_exporter": "python",
   "pygments_lexer": "ipython3",
   "version": "3.6.13"
  }
 },
 "nbformat": 4,
 "nbformat_minor": 5
}
