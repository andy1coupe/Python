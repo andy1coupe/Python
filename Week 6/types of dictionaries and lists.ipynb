{
 "cells": [
  {
   "cell_type": "markdown",
   "id": "0d7135e9",
   "metadata": {},
   "source": [
    "# Semi structured data "
   ]
  },
  {
   "cell_type": "code",
   "execution_count": 1,
   "id": "317e67b0",
   "metadata": {},
   "outputs": [
    {
     "data": {
      "text/plain": [
       "{'fruit': 'Apple', 'size': 'Large', 'color': 'Red'}"
      ]
     },
     "execution_count": 1,
     "metadata": {},
     "output_type": "execute_result"
    }
   ],
   "source": [
    "{\n",
    "    \"fruit\": \"Apple\",\n",
    "    \"size\": \"Large\",\n",
    "    \"color\": \"Red\"\n",
    "}    # dictionary, list"
   ]
  },
  {
   "cell_type": "code",
   "execution_count": 4,
   "id": "6489c2fd",
   "metadata": {},
   "outputs": [],
   "source": [
    "#every dictionary is made up of a list of values"
   ]
  },
  {
   "cell_type": "code",
   "execution_count": 9,
   "id": "3e2ac0bb",
   "metadata": {},
   "outputs": [
    {
     "ename": "SyntaxError",
     "evalue": "unexpected EOF while parsing (<ipython-input-9-86d432088f56>, line 41)",
     "output_type": "error",
     "traceback": [
      "\u001b[0;36m  File \u001b[0;32m\"<ipython-input-9-86d432088f56>\"\u001b[0;36m, line \u001b[0;32m41\u001b[0m\n\u001b[0;31m    \u001b[0m\n\u001b[0m    ^\u001b[0m\n\u001b[0;31mSyntaxError\u001b[0m\u001b[0;31m:\u001b[0m unexpected EOF while parsing\n"
     ]
    }
   ],
   "source": [
    "#a list inside a dictionary inside a dictionary \n",
    "[\n",
    "{\n",
    "    \"quiz\": {\n",
    "        \"sport\": {\n",
    "            \"q1\": {\n",
    "                \"question\": \"Which one is correct team name in NBA?\",\n",
    "                \"options\": [\n",
    "                    \"New York Bulls\",\n",
    "                    \"Los Angeles Kings\",\n",
    "                    \"Golden State Warriros\",\n",
    "                    \"Huston Rocket\"\n",
    "                ],\n",
    "                \"answer\": \"Huston Rocket\"\n",
    "            }\n",
    "        },\n",
    "        \"maths\": {\n",
    "            \"q1\": {\n",
    "                \"question\": \"5 + 7 = ?\",\n",
    "                \"options\": [\n",
    "                    \"10\",\n",
    "                    \"11\",\n",
    "                    \"12\",\n",
    "                    \"13\"\n",
    "                ],\n",
    "                \"answer\": \"12\"\n",
    "            },\n",
    "            \"q2\": {\n",
    "                \"question\": \"12 - 8 = ?\",\n",
    "                \"options\": [\n",
    "                    \"1\",\n",
    "                    \"2\",\n",
    "                    \"3\",\n",
    "                    \"4\"\n",
    "                ],\n",
    "                \"answer\": \"4\"\n",
    "            }\n",
    "        }\n",
    "    }\n",
    "}\n",
    "\n"
   ]
  },
  {
   "cell_type": "code",
   "execution_count": 6,
   "id": "529c97ec",
   "metadata": {},
   "outputs": [],
   "source": [
    "# a list of dictionaries "
   ]
  },
  {
   "cell_type": "code",
   "execution_count": 8,
   "id": "44dbd4dd",
   "metadata": {},
   "outputs": [
    {
     "ename": "NameError",
     "evalue": "name 'color' is not defined",
     "output_type": "error",
     "traceback": [
      "\u001b[0;31m---------------------------------------------------------------------------\u001b[0m",
      "\u001b[0;31mNameError\u001b[0m                                 Traceback (most recent call last)",
      "\u001b[0;32m<ipython-input-8-dd1293866f2f>\u001b[0m in \u001b[0;36m<module>\u001b[0;34m\u001b[0m\n\u001b[1;32m      1\u001b[0m {\n\u001b[0;32m----> 2\u001b[0;31m         \u001b[0mcolor\u001b[0m\u001b[0;34m:\u001b[0m \u001b[0;34m\"red\"\u001b[0m\u001b[0;34m,\u001b[0m\u001b[0;34m\u001b[0m\u001b[0;34m\u001b[0m\u001b[0m\n\u001b[0m\u001b[1;32m      3\u001b[0m         \u001b[0mvalue\u001b[0m\u001b[0;34m:\u001b[0m \u001b[0;34m\"#f00\"\u001b[0m\u001b[0;34m\u001b[0m\u001b[0;34m\u001b[0m\u001b[0m\n\u001b[1;32m      4\u001b[0m },\n\u001b[1;32m      5\u001b[0m {\n",
      "\u001b[0;31mNameError\u001b[0m: name 'color' is not defined"
     ]
    }
   ],
   "source": [
    "\n",
    "\t{\n",
    "\t\tcolor: \"red\",\n",
    "\t\tvalue: \"#f00\"\n",
    "\t},\n",
    "\t{\n",
    "\t\tcolor: \"green\",\n",
    "\t\tvalue: \"#0f0\"\n",
    "\t},\n",
    "\t{\n",
    "\t\tcolor: \"blue\",\n",
    "\t\tvalue: \"#00f\"\n",
    "\t},\n",
    "\t{\n",
    "\t\tcolor: \"cyan\",\n",
    "\t\tvalue: \"#0ff\"\n",
    "\t},\n",
    "\t{\n",
    "\t\tcolor: \"magenta\",\n",
    "\t\tvalue: \"#f0f\"\n",
    "\t},\n",
    "\t{\n",
    "\t\tcolor: \"yellow\",\n",
    "\t\tvalue: \"#ff0\"\n",
    "\t},\n",
    "\t{\n",
    "\t\tcolor: \"black\",\n",
    "\t\tvalue: \"#000\"\n",
    "\t}\n",
    "    ]"
   ]
  },
  {
   "cell_type": "code",
   "execution_count": 10,
   "id": "d8d5d0e7",
   "metadata": {},
   "outputs": [
    {
     "data": {
      "text/plain": [
       "{'people': [{'firstName': 'Joe',\n",
       "   'lastName': 'Jackson',\n",
       "   'gender': 'male',\n",
       "   'age': 28,\n",
       "   'number': '7349282382'},\n",
       "  {'firstName': 'James',\n",
       "   'lastName': 'Smith',\n",
       "   'gender': 'male',\n",
       "   'age': 32,\n",
       "   'number': '5678568567'},\n",
       "  {'firstName': 'Emily',\n",
       "   'lastName': 'Jones',\n",
       "   'gender': 'female',\n",
       "   'age': 24,\n",
       "   'number': '456754675'}]}"
      ]
     },
     "execution_count": 10,
     "metadata": {},
     "output_type": "execute_result"
    }
   ],
   "source": [
    "{\n",
    "  \"people\" : [\n",
    "    {\n",
    "       \"firstName\": \"Joe\",\n",
    "       \"lastName\": \"Jackson\",\n",
    "       \"gender\": \"male\",\n",
    "       \"age\": 28,\n",
    "       \"number\": \"7349282382\"\n",
    "    },\n",
    "    {\n",
    "       \"firstName\": \"James\",\n",
    "       \"lastName\": \"Smith\",\n",
    "       \"gender\": \"male\",\n",
    "       \"age\": 32,\n",
    "       \"number\": \"5678568567\"\n",
    "    },\n",
    "    {\n",
    "       \"firstName\": \"Emily\",\n",
    "       \"lastName\": \"Jones\",\n",
    "       \"gender\": \"female\",\n",
    "       \"age\": 24,\n",
    "       \"number\": \"456754675\"\n",
    "    }\n",
    "  ]\n",
    "}"
   ]
  },
  {
   "cell_type": "code",
   "execution_count": null,
   "id": "baea0bdb",
   "metadata": {},
   "outputs": [],
   "source": []
  }
 ],
 "metadata": {
  "kernelspec": {
   "display_name": "Python 3",
   "language": "python",
   "name": "python3"
  },
  "language_info": {
   "codemirror_mode": {
    "name": "ipython",
    "version": 3
   },
   "file_extension": ".py",
   "mimetype": "text/x-python",
   "name": "python",
   "nbconvert_exporter": "python",
   "pygments_lexer": "ipython3",
   "version": "3.6.13"
  }
 },
 "nbformat": 4,
 "nbformat_minor": 5
}
