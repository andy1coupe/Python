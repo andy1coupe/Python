{
 "cells": [
  {
   "cell_type": "markdown",
   "id": "aa993854",
   "metadata": {},
   "source": [
    "### 1 T test"
   ]
  },
  {
   "cell_type": "code",
   "execution_count": 1,
   "id": "c30315c0",
   "metadata": {},
   "outputs": [],
   "source": [
    "from scipy.stats import ttest_1samp #this is a one not an l"
   ]
  },
  {
   "cell_type": "code",
   "execution_count": 2,
   "id": "46a5a88a",
   "metadata": {},
   "outputs": [],
   "source": [
    "from scipy.stats import norm"
   ]
  },
  {
   "cell_type": "code",
   "execution_count": 3,
   "id": "6361e0a1",
   "metadata": {},
   "outputs": [],
   "source": [
    "data= [87,68,69,71,85,86,76] #example weights, could be from a df, a list, if you know the data"
   ]
  },
  {
   "cell_type": "code",
   "execution_count": 4,
   "id": "e0e39d2c",
   "metadata": {},
   "outputs": [],
   "source": [
    "test=ttest_1samp(a=data,popmean=85)"
   ]
  },
  {
   "cell_type": "code",
   "execution_count": 5,
   "id": "9f0a4adb",
   "metadata": {},
   "outputs": [
    {
     "name": "stdout",
     "output_type": "stream",
     "text": [
      "Ttest_1sampResult(statistic=-2.378172554291756, pvalue=0.054904857540624415)\n"
     ]
    }
   ],
   "source": [
    "print(test)"
   ]
  },
  {
   "cell_type": "code",
   "execution_count": 6,
   "id": "3943b7b1",
   "metadata": {},
   "outputs": [],
   "source": [
    "# there is no extreme result 0 we dont have enough evidence to claim that the children are underweight\n",
    "#at this pint we would accpet the H0 and reject the HA"
   ]
  },
  {
   "cell_type": "code",
   "execution_count": 7,
   "id": "61ddedff",
   "metadata": {},
   "outputs": [],
   "source": [
    "#if we dont have the readings /observations we can do it like this\n",
    "sample_mean=80.94\n",
    "pop_mean=85\n",
    "sample_std=11.6\n",
    "n=25"
   ]
  },
  {
   "cell_type": "code",
   "execution_count": 8,
   "id": "42ee144a",
   "metadata": {},
   "outputs": [],
   "source": [
    "import math"
   ]
  },
  {
   "cell_type": "code",
   "execution_count": 9,
   "id": "dc02ee6e",
   "metadata": {},
   "outputs": [],
   "source": [
    "t_statistic = (sample_mean-pop_mean)/(sample_std/math.sqrt(n-1))\n"
   ]
  },
  {
   "cell_type": "code",
   "execution_count": 10,
   "id": "7e3a58cd",
   "metadata": {},
   "outputs": [
    {
     "data": {
      "text/plain": [
       "-1.7146428199482255"
      ]
     },
     "execution_count": 10,
     "metadata": {},
     "output_type": "execute_result"
    }
   ],
   "source": [
    "t_statistic"
   ]
  },
  {
   "cell_type": "code",
   "execution_count": 11,
   "id": "656c2d61",
   "metadata": {},
   "outputs": [],
   "source": [
    "# p value\n",
    "p_value=norm.cdf(t_statistic)"
   ]
  },
  {
   "cell_type": "code",
   "execution_count": 12,
   "id": "292a0f87",
   "metadata": {},
   "outputs": [
    {
     "data": {
      "text/plain": [
       "0.04320536648684992"
      ]
     },
     "execution_count": 12,
     "metadata": {},
     "output_type": "execute_result"
    }
   ],
   "source": [
    "p_value"
   ]
  },
  {
   "cell_type": "code",
   "execution_count": 13,
   "id": "701e97f0",
   "metadata": {},
   "outputs": [],
   "source": [
    "#critical value\n",
    "critical_value=norm.ppf(0.05)"
   ]
  },
  {
   "cell_type": "code",
   "execution_count": 14,
   "id": "091fa52f",
   "metadata": {},
   "outputs": [
    {
     "data": {
      "text/plain": [
       "-1.6448536269514729"
      ]
     },
     "execution_count": 14,
     "metadata": {},
     "output_type": "execute_result"
    }
   ],
   "source": [
    "critical_value"
   ]
  },
  {
   "cell_type": "code",
   "execution_count": 15,
   "id": "3a48b356",
   "metadata": {},
   "outputs": [],
   "source": [
    "#if we are not consistent - accept H0\n",
    "#in this case we DO have evidence that the boys are underweight"
   ]
  },
  {
   "cell_type": "markdown",
   "id": "c8f9de83",
   "metadata": {},
   "source": [
    "## Anova test example"
   ]
  },
  {
   "cell_type": "code",
   "execution_count": 16,
   "id": "a9198b53",
   "metadata": {},
   "outputs": [],
   "source": [
    "import pandas as pd\n",
    "import xlrd as xlrd"
   ]
  },
  {
   "cell_type": "code",
   "execution_count": 18,
   "id": "c106f508",
   "metadata": {},
   "outputs": [],
   "source": [
    "df=pd.read_csv('anova_class_example_data1.csv')"
   ]
  },
  {
   "cell_type": "code",
   "execution_count": 20,
   "id": "10d167fe",
   "metadata": {},
   "outputs": [
    {
     "data": {
      "text/html": [
       "<div>\n",
       "<style scoped>\n",
       "    .dataframe tbody tr th:only-of-type {\n",
       "        vertical-align: middle;\n",
       "    }\n",
       "\n",
       "    .dataframe tbody tr th {\n",
       "        vertical-align: top;\n",
       "    }\n",
       "\n",
       "    .dataframe thead th {\n",
       "        text-align: right;\n",
       "    }\n",
       "</style>\n",
       "<table border=\"1\" class=\"dataframe\">\n",
       "  <thead>\n",
       "    <tr style=\"text-align: right;\">\n",
       "      <th></th>\n",
       "      <th>Display_design</th>\n",
       "      <th>Percent_increase_in_sales</th>\n",
       "    </tr>\n",
       "  </thead>\n",
       "  <tbody>\n",
       "    <tr>\n",
       "      <th>0</th>\n",
       "      <td>1</td>\n",
       "      <td>575</td>\n",
       "    </tr>\n",
       "  </tbody>\n",
       "</table>\n",
       "</div>"
      ],
      "text/plain": [
       "   Display_design  Percent_increase_in_sales\n",
       "0               1                        575"
      ]
     },
     "execution_count": 20,
     "metadata": {},
     "output_type": "execute_result"
    }
   ],
   "source": [
    "df.head(1)"
   ]
  },
  {
   "cell_type": "code",
   "execution_count": 21,
   "id": "23fc187c",
   "metadata": {},
   "outputs": [],
   "source": [
    "import statsmodels.api as sm"
   ]
  },
  {
   "cell_type": "code",
   "execution_count": 22,
   "id": "60e95c99",
   "metadata": {},
   "outputs": [],
   "source": [
    "from statsmodels.formula.api import ols #ordinary least squares"
   ]
  },
  {
   "cell_type": "code",
   "execution_count": null,
   "id": "71e7e7a5",
   "metadata": {},
   "outputs": [],
   "source": [
    "# samples should be independent \n",
    "# samples should be similar period of time - these however are all over the same 5 days\n",
    "# more than two samples \n",
    "# interested in difference not what is better or worse\n",
    "\n"
   ]
  },
  {
   "cell_type": "code",
   "execution_count": 25,
   "id": "e032d90e",
   "metadata": {},
   "outputs": [],
   "source": [
    "model=ols('Percent_increase_in_sales ~ C(Display_design)', data=df).fit()    #train model ols"
   ]
  },
  {
   "cell_type": "code",
   "execution_count": 26,
   "id": "77bf0880",
   "metadata": {},
   "outputs": [],
   "source": [
    "results_table=sm.stats.anova_lm(model)"
   ]
  },
  {
   "cell_type": "code",
   "execution_count": 28,
   "id": "6560d3b7",
   "metadata": {},
   "outputs": [
    {
     "data": {
      "text/html": [
       "<div>\n",
       "<style scoped>\n",
       "    .dataframe tbody tr th:only-of-type {\n",
       "        vertical-align: middle;\n",
       "    }\n",
       "\n",
       "    .dataframe tbody tr th {\n",
       "        vertical-align: top;\n",
       "    }\n",
       "\n",
       "    .dataframe thead th {\n",
       "        text-align: right;\n",
       "    }\n",
       "</style>\n",
       "<table border=\"1\" class=\"dataframe\">\n",
       "  <thead>\n",
       "    <tr style=\"text-align: right;\">\n",
       "      <th></th>\n",
       "      <th>df</th>\n",
       "      <th>sum_sq</th>\n",
       "      <th>mean_sq</th>\n",
       "      <th>F</th>\n",
       "      <th>PR(&gt;F)</th>\n",
       "    </tr>\n",
       "  </thead>\n",
       "  <tbody>\n",
       "    <tr>\n",
       "      <th>C(Display_design)</th>\n",
       "      <td>3.0</td>\n",
       "      <td>66870.55</td>\n",
       "      <td>22290.183333</td>\n",
       "      <td>66.797073</td>\n",
       "      <td>2.882866e-09</td>\n",
       "    </tr>\n",
       "    <tr>\n",
       "      <th>Residual</th>\n",
       "      <td>16.0</td>\n",
       "      <td>5339.20</td>\n",
       "      <td>333.700000</td>\n",
       "      <td>NaN</td>\n",
       "      <td>NaN</td>\n",
       "    </tr>\n",
       "  </tbody>\n",
       "</table>\n",
       "</div>"
      ],
      "text/plain": [
       "                     df    sum_sq       mean_sq          F        PR(>F)\n",
       "C(Display_design)   3.0  66870.55  22290.183333  66.797073  2.882866e-09\n",
       "Residual           16.0   5339.20    333.700000        NaN           NaN"
      ]
     },
     "execution_count": 28,
     "metadata": {},
     "output_type": "execute_result"
    }
   ],
   "source": [
    "results_table"
   ]
  },
  {
   "cell_type": "code",
   "execution_count": 30,
   "id": "35a18000",
   "metadata": {},
   "outputs": [],
   "source": [
    "# P value is < 0.01 so we can reject H0 and say there is a difference in sales depending on display"
   ]
  },
  {
   "cell_type": "code",
   "execution_count": 31,
   "id": "bb7fe4d4",
   "metadata": {},
   "outputs": [],
   "source": [
    "# F values - compare to an F table\n",
    "# reject H0\n",
    "# design DOES matter"
   ]
  },
  {
   "cell_type": "code",
   "execution_count": null,
   "id": "2c93983b",
   "metadata": {},
   "outputs": [],
   "source": []
  },
  {
   "cell_type": "code",
   "execution_count": null,
   "id": "cedc9c33",
   "metadata": {},
   "outputs": [],
   "source": []
  },
  {
   "cell_type": "code",
   "execution_count": null,
   "id": "416113f7",
   "metadata": {},
   "outputs": [],
   "source": []
  },
  {
   "cell_type": "code",
   "execution_count": null,
   "id": "bbbcf0b4",
   "metadata": {},
   "outputs": [],
   "source": []
  },
  {
   "cell_type": "code",
   "execution_count": null,
   "id": "870aba83",
   "metadata": {},
   "outputs": [],
   "source": []
  }
 ],
 "metadata": {
  "kernelspec": {
   "display_name": "Python 3",
   "language": "python",
   "name": "python3"
  },
  "language_info": {
   "codemirror_mode": {
    "name": "ipython",
    "version": 3
   },
   "file_extension": ".py",
   "mimetype": "text/x-python",
   "name": "python",
   "nbconvert_exporter": "python",
   "pygments_lexer": "ipython3",
   "version": "3.6.13"
  }
 },
 "nbformat": 4,
 "nbformat_minor": 5
}
