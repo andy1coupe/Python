{
 "cells": [
  {
   "cell_type": "code",
   "execution_count": 1,
   "id": "91d3c185",
   "metadata": {},
   "outputs": [],
   "source": [
    "import pandas as pd\n",
    "import statsmodels.api as sm\n",
    "from statsmodels.formula.api import ols\n",
    "import seaborn as sns\n"
   ]
  },
  {
   "cell_type": "code",
   "execution_count": 2,
   "id": "f2bb5c7c",
   "metadata": {},
   "outputs": [],
   "source": [
    "# H0 = null hypothesis that power is not affected by etching \n",
    "# HA = hypothesis is power is affected by etching \n",
    "#significance level 0.95\n",
    "#anova test "
   ]
  },
  {
   "cell_type": "code",
   "execution_count": 3,
   "id": "ddbe8953",
   "metadata": {},
   "outputs": [],
   "source": [
    "df=pd.read_csv('anova_lab_data.csv')"
   ]
  },
  {
   "cell_type": "code",
   "execution_count": 4,
   "id": "51d1fbb7",
   "metadata": {},
   "outputs": [
    {
     "data": {
      "text/html": [
       "<div>\n",
       "<style scoped>\n",
       "    .dataframe tbody tr th:only-of-type {\n",
       "        vertical-align: middle;\n",
       "    }\n",
       "\n",
       "    .dataframe tbody tr th {\n",
       "        vertical-align: top;\n",
       "    }\n",
       "\n",
       "    .dataframe thead th {\n",
       "        text-align: right;\n",
       "    }\n",
       "</style>\n",
       "<table border=\"1\" class=\"dataframe\">\n",
       "  <thead>\n",
       "    <tr style=\"text-align: right;\">\n",
       "      <th></th>\n",
       "      <th>Power</th>\n",
       "      <th>Etching Rate</th>\n",
       "    </tr>\n",
       "  </thead>\n",
       "  <tbody>\n",
       "    <tr>\n",
       "      <th>0</th>\n",
       "      <td>160 W</td>\n",
       "      <td>5.43</td>\n",
       "    </tr>\n",
       "    <tr>\n",
       "      <th>1</th>\n",
       "      <td>180 W</td>\n",
       "      <td>6.24</td>\n",
       "    </tr>\n",
       "    <tr>\n",
       "      <th>2</th>\n",
       "      <td>200 W</td>\n",
       "      <td>8.79</td>\n",
       "    </tr>\n",
       "    <tr>\n",
       "      <th>3</th>\n",
       "      <td>160 W</td>\n",
       "      <td>5.71</td>\n",
       "    </tr>\n",
       "    <tr>\n",
       "      <th>4</th>\n",
       "      <td>180 W</td>\n",
       "      <td>6.71</td>\n",
       "    </tr>\n",
       "    <tr>\n",
       "      <th>5</th>\n",
       "      <td>200 W</td>\n",
       "      <td>9.20</td>\n",
       "    </tr>\n",
       "    <tr>\n",
       "      <th>6</th>\n",
       "      <td>160 W</td>\n",
       "      <td>6.22</td>\n",
       "    </tr>\n",
       "    <tr>\n",
       "      <th>7</th>\n",
       "      <td>180 W</td>\n",
       "      <td>5.98</td>\n",
       "    </tr>\n",
       "    <tr>\n",
       "      <th>8</th>\n",
       "      <td>200 W</td>\n",
       "      <td>7.90</td>\n",
       "    </tr>\n",
       "    <tr>\n",
       "      <th>9</th>\n",
       "      <td>160 W</td>\n",
       "      <td>6.01</td>\n",
       "    </tr>\n",
       "    <tr>\n",
       "      <th>10</th>\n",
       "      <td>180 W</td>\n",
       "      <td>5.66</td>\n",
       "    </tr>\n",
       "    <tr>\n",
       "      <th>11</th>\n",
       "      <td>200 W</td>\n",
       "      <td>8.15</td>\n",
       "    </tr>\n",
       "    <tr>\n",
       "      <th>12</th>\n",
       "      <td>160 W</td>\n",
       "      <td>5.59</td>\n",
       "    </tr>\n",
       "    <tr>\n",
       "      <th>13</th>\n",
       "      <td>180 W</td>\n",
       "      <td>6.60</td>\n",
       "    </tr>\n",
       "    <tr>\n",
       "      <th>14</th>\n",
       "      <td>200 W</td>\n",
       "      <td>7.55</td>\n",
       "    </tr>\n",
       "  </tbody>\n",
       "</table>\n",
       "</div>"
      ],
      "text/plain": [
       "   Power   Etching Rate\n",
       "0   160 W          5.43\n",
       "1   180 W          6.24\n",
       "2   200 W          8.79\n",
       "3   160 W          5.71\n",
       "4   180 W          6.71\n",
       "5   200 W          9.20\n",
       "6   160 W          6.22\n",
       "7   180 W          5.98\n",
       "8   200 W          7.90\n",
       "9   160 W          6.01\n",
       "10  180 W          5.66\n",
       "11  200 W          8.15\n",
       "12  160 W          5.59\n",
       "13  180 W          6.60\n",
       "14  200 W          7.55"
      ]
     },
     "execution_count": 4,
     "metadata": {},
     "output_type": "execute_result"
    }
   ],
   "source": [
    "df\n"
   ]
  },
  {
   "cell_type": "code",
   "execution_count": 5,
   "id": "11c136e6",
   "metadata": {},
   "outputs": [],
   "source": [
    "df.rename(columns={'Etching Rate': 'etching_rate', 'Power ': 'power'}, inplace=True)"
   ]
  },
  {
   "cell_type": "code",
   "execution_count": 6,
   "id": "2e482572",
   "metadata": {},
   "outputs": [
    {
     "name": "stdout",
     "output_type": "stream",
     "text": [
      "<class 'pandas.core.frame.DataFrame'>\n",
      "RangeIndex: 15 entries, 0 to 14\n",
      "Data columns (total 2 columns):\n",
      " #   Column        Non-Null Count  Dtype  \n",
      "---  ------        --------------  -----  \n",
      " 0   power         15 non-null     object \n",
      " 1   etching_rate  15 non-null     float64\n",
      "dtypes: float64(1), object(1)\n",
      "memory usage: 368.0+ bytes\n"
     ]
    }
   ],
   "source": [
    "df.info()"
   ]
  },
  {
   "cell_type": "code",
   "execution_count": 7,
   "id": "2e0c39b2",
   "metadata": {},
   "outputs": [
    {
     "data": {
      "text/html": [
       "<div>\n",
       "<style scoped>\n",
       "    .dataframe tbody tr th:only-of-type {\n",
       "        vertical-align: middle;\n",
       "    }\n",
       "\n",
       "    .dataframe tbody tr th {\n",
       "        vertical-align: top;\n",
       "    }\n",
       "\n",
       "    .dataframe thead th {\n",
       "        text-align: right;\n",
       "    }\n",
       "</style>\n",
       "<table border=\"1\" class=\"dataframe\">\n",
       "  <thead>\n",
       "    <tr style=\"text-align: right;\">\n",
       "      <th></th>\n",
       "      <th>etching_rate</th>\n",
       "    </tr>\n",
       "  </thead>\n",
       "  <tbody>\n",
       "    <tr>\n",
       "      <th>count</th>\n",
       "      <td>15.000000</td>\n",
       "    </tr>\n",
       "    <tr>\n",
       "      <th>mean</th>\n",
       "      <td>6.782667</td>\n",
       "    </tr>\n",
       "    <tr>\n",
       "      <th>std</th>\n",
       "      <td>1.228643</td>\n",
       "    </tr>\n",
       "    <tr>\n",
       "      <th>min</th>\n",
       "      <td>5.430000</td>\n",
       "    </tr>\n",
       "    <tr>\n",
       "      <th>25%</th>\n",
       "      <td>5.845000</td>\n",
       "    </tr>\n",
       "    <tr>\n",
       "      <th>50%</th>\n",
       "      <td>6.240000</td>\n",
       "    </tr>\n",
       "    <tr>\n",
       "      <th>75%</th>\n",
       "      <td>7.725000</td>\n",
       "    </tr>\n",
       "    <tr>\n",
       "      <th>max</th>\n",
       "      <td>9.200000</td>\n",
       "    </tr>\n",
       "  </tbody>\n",
       "</table>\n",
       "</div>"
      ],
      "text/plain": [
       "       etching_rate\n",
       "count     15.000000\n",
       "mean       6.782667\n",
       "std        1.228643\n",
       "min        5.430000\n",
       "25%        5.845000\n",
       "50%        6.240000\n",
       "75%        7.725000\n",
       "max        9.200000"
      ]
     },
     "execution_count": 7,
     "metadata": {},
     "output_type": "execute_result"
    }
   ],
   "source": [
    "df.describe()"
   ]
  },
  {
   "cell_type": "code",
   "execution_count": 8,
   "id": "650c7211",
   "metadata": {},
   "outputs": [],
   "source": [
    "df_power_200w=df.loc[df['power'] == '200 W'] #select entries where power = 200w"
   ]
  },
  {
   "cell_type": "code",
   "execution_count": 9,
   "id": "93b83086",
   "metadata": {},
   "outputs": [
    {
     "data": {
      "text/plain": [
       "etching_rate    8.318\n",
       "dtype: float64"
      ]
     },
     "execution_count": 9,
     "metadata": {},
     "output_type": "execute_result"
    }
   ],
   "source": [
    "df_power_200w.mean() #check mean for the selected 200w"
   ]
  },
  {
   "cell_type": "code",
   "execution_count": 10,
   "id": "f3591f2b",
   "metadata": {},
   "outputs": [],
   "source": [
    "df_power_180w=df.loc[df['power'] == '180 W'] #select entries where power 180w"
   ]
  },
  {
   "cell_type": "code",
   "execution_count": 11,
   "id": "32ac54a6",
   "metadata": {},
   "outputs": [
    {
     "data": {
      "text/plain": [
       "etching_rate    6.238\n",
       "dtype: float64"
      ]
     },
     "execution_count": 11,
     "metadata": {},
     "output_type": "execute_result"
    }
   ],
   "source": [
    "df_power_180w.mean() #check mean for the selected 180w"
   ]
  },
  {
   "cell_type": "code",
   "execution_count": 12,
   "id": "2283e7d6",
   "metadata": {},
   "outputs": [],
   "source": [
    "df_power_160w=df.loc[df['power'] == '160 W'] #select entries where power 160w"
   ]
  },
  {
   "cell_type": "code",
   "execution_count": 13,
   "id": "0c573c12",
   "metadata": {},
   "outputs": [
    {
     "data": {
      "text/plain": [
       "etching_rate    5.792\n",
       "dtype: float64"
      ]
     },
     "execution_count": 13,
     "metadata": {},
     "output_type": "execute_result"
    }
   ],
   "source": [
    "df_power_160w.mean()"
   ]
  },
  {
   "cell_type": "code",
   "execution_count": 14,
   "id": "e8e582bb",
   "metadata": {},
   "outputs": [],
   "source": [
    "#differing means proves the null hypothesis incorrect but lets check with Anova"
   ]
  },
  {
   "cell_type": "code",
   "execution_count": 15,
   "id": "9ad3c392",
   "metadata": {},
   "outputs": [],
   "source": [
    "model=ols('etching_rate ~ C(power)', data=df).fit()"
   ]
  },
  {
   "cell_type": "code",
   "execution_count": 16,
   "id": "fa344522",
   "metadata": {},
   "outputs": [],
   "source": [
    "results_table=sm.stats.anova_lm(model)"
   ]
  },
  {
   "cell_type": "code",
   "execution_count": 17,
   "id": "30d082f3",
   "metadata": {},
   "outputs": [
    {
     "data": {
      "text/html": [
       "<div>\n",
       "<style scoped>\n",
       "    .dataframe tbody tr th:only-of-type {\n",
       "        vertical-align: middle;\n",
       "    }\n",
       "\n",
       "    .dataframe tbody tr th {\n",
       "        vertical-align: top;\n",
       "    }\n",
       "\n",
       "    .dataframe thead th {\n",
       "        text-align: right;\n",
       "    }\n",
       "</style>\n",
       "<table border=\"1\" class=\"dataframe\">\n",
       "  <thead>\n",
       "    <tr style=\"text-align: right;\">\n",
       "      <th></th>\n",
       "      <th>df</th>\n",
       "      <th>sum_sq</th>\n",
       "      <th>mean_sq</th>\n",
       "      <th>F</th>\n",
       "      <th>PR(&gt;F)</th>\n",
       "    </tr>\n",
       "  </thead>\n",
       "  <tbody>\n",
       "    <tr>\n",
       "      <th>C(power)</th>\n",
       "      <td>2.0</td>\n",
       "      <td>18.176653</td>\n",
       "      <td>9.088327</td>\n",
       "      <td>36.878955</td>\n",
       "      <td>0.000008</td>\n",
       "    </tr>\n",
       "    <tr>\n",
       "      <th>Residual</th>\n",
       "      <td>12.0</td>\n",
       "      <td>2.957240</td>\n",
       "      <td>0.246437</td>\n",
       "      <td>NaN</td>\n",
       "      <td>NaN</td>\n",
       "    </tr>\n",
       "  </tbody>\n",
       "</table>\n",
       "</div>"
      ],
      "text/plain": [
       "            df     sum_sq   mean_sq          F    PR(>F)\n",
       "C(power)   2.0  18.176653  9.088327  36.878955  0.000008\n",
       "Residual  12.0   2.957240  0.246437        NaN       NaN"
      ]
     },
     "execution_count": 17,
     "metadata": {},
     "output_type": "execute_result"
    }
   ],
   "source": [
    "results_table"
   ]
  },
  {
   "cell_type": "code",
   "execution_count": 18,
   "id": "4cd165cd",
   "metadata": {},
   "outputs": [],
   "source": [
    "#check f value in statistics tables of 12.97"
   ]
  },
  {
   "cell_type": "code",
   "execution_count": 20,
   "id": "e22afdf0",
   "metadata": {},
   "outputs": [],
   "source": [
    "#The model has 2 degrees of freedom (number of categories(k) minus 1, the totla error terms of the model\n",
    "# are a sum of errors of 21.12 and a mean error of 9.32. The total degrees of freedom for the model \n",
    "# is 14(Dof of model (k-1) + Dof of resdiuals (n-k) = 12,"
   ]
  },
  {
   "cell_type": "code",
   "execution_count": 21,
   "id": "f9070a13",
   "metadata": {},
   "outputs": [],
   "source": [
    "#p value of < 0.05 so we can reject null hypothesis and say that HA is true, as there are differences\n",
    "#in etching rate for each power level. Also as shown in the boxplot below"
   ]
  },
  {
   "cell_type": "code",
   "execution_count": 22,
   "id": "d989f3ff",
   "metadata": {},
   "outputs": [
    {
     "data": {
      "image/png": "[encoded data removed]",
      "text/plain": [
       "<Figure size 432x288 with 1 Axes>"
      ]
     },
     "metadata": {
      "needs_background": "light"
     },
     "output_type": "display_data"
    }
   ],
   "source": [
    "sns.boxplot(x='power', y='etching_rate', data=df);"
   ]
  },
  {
   "cell_type": "code",
   "execution_count": null,
   "id": "342c4da2",
   "metadata": {},
   "outputs": [],
   "source": []
  },
  {
   "cell_type": "code",
   "execution_count": null,
   "id": "af7c1765",
   "metadata": {},
   "outputs": [],
   "source": []
  },
  {
   "cell_type": "code",
   "execution_count": null,
   "id": "ef8966a4",
   "metadata": {},
   "outputs": [],
   "source": []
  },
  {
   "cell_type": "code",
   "execution_count": null,
   "id": "2e4af7e3",
   "metadata": {},
   "outputs": [],
   "source": []
  },
  {
   "cell_type": "code",
   "execution_count": null,
   "id": "fac4e87a",
   "metadata": {},
   "outputs": [],
   "source": []
  }
 ],
 "metadata": {
  "kernelspec": {
   "display_name": "Python 3",
   "language": "python",
   "name": "python3"
  },
  "language_info": {
   "codemirror_mode": {
    "name": "ipython",
    "version": 3
   },
   "file_extension": ".py",
   "mimetype": "text/x-python",
   "name": "python",
   "nbconvert_exporter": "python",
   "pygments_lexer": "ipython3",
   "version": "3.6.13"
  }
 },
 "nbformat": 4,
 "nbformat_minor": 5
}
