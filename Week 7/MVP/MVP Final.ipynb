{
 "cells": [
  {
   "cell_type": "code",
   "execution_count": 3,
   "id": "aaa13c0c",
   "metadata": {},
   "outputs": [
    {
     "name": "stdout",
     "output_type": "stream",
     "text": [
      "What is your favorite song? as it was\n",
      "The song you choose is hot in the billboard 100! Maybe you will like to try:  ghost\n"
     ]
    },
    {
     "data": {
      "text/html": [
       "\n",
       "        <iframe\n",
       "            width=\"400\"\n",
       "            height=\"300\"\n",
       "            src=\"https://www.youtube.com/embed/https://www.youtube.com/watch?v=DD2m_iqD7dI\"\n",
       "            frameborder=\"0\"\n",
       "            allowfullscreen\n",
       "        ></iframe>\n",
       "        "
      ],
      "text/plain": [
       "<IPython.lib.display.YouTubeVideo at 0x7fc29a3edba8>"
      ]
     },
     "metadata": {},
     "output_type": "display_data"
    }
   ],
   "source": [
    "import pandas as pd\n",
    "import requests \n",
    "import re\n",
    "import urllib.request\n",
    "from IPython.display import YouTubeVideo\n",
    "import random\n",
    "from bs4 import BeautifulSoup\n",
    "from tqdm.notebook import tqdm\n",
    "billboard100=pd.read_csv('billboard_100.csv')\n",
    "billboard100 = billboard100.drop('Unnamed: 0', axis = 1)\n",
    "billboard100['title'] = billboard100['title'].str.lower()\n",
    "billboard100['artist'] = billboard100['artist'].str.lower()\n",
    "billboard100['title'] = billboard100['title'].str.lstrip()\n",
    "billboard100['title'] = billboard100['title'].str.rstrip()\n",
    "song_title = billboard100['title'].values.tolist()\n",
    "song_recomender=input('What is your favorite song? ').lstrip().rstrip().lower()\n",
    "if len(song_recomender) < 2:\n",
    "    print('Not a song, please try again')\n",
    "elif song_recomender in song_title:\n",
    "    new_song=random.choice(song_title)\n",
    "    print('The song you choose is hot in the billboard 100! Maybe you will like to try: ', new_song)\n",
    "else:\n",
    "    print('You song is not hot in the billboard 100, we have no recomendations')\n",
    "\n",
    "\n",
    "html = urllib.request.urlopen('https://www.youtube.com/results?search_query='+new_song.replace(\" \",\"+\"))\n",
    "video_ids = re.findall(r\"watch\\?v=(\\S{11})\",html.read().decode())\n",
    "play = YouTubeVideo(\"https://www.youtube.com/watch?v=\"+video_ids[0])\n",
    "display(play)\n"
   ]
  },
  {
   "cell_type": "code",
   "execution_count": null,
   "id": "f135cad6",
   "metadata": {},
   "outputs": [],
   "source": []
  },
  {
   "cell_type": "code",
   "execution_count": null,
   "id": "78c1ae60",
   "metadata": {},
   "outputs": [],
   "source": []
  }
 ],
 "metadata": {
  "kernelspec": {
   "display_name": "Python 3",
   "language": "python",
   "name": "python3"
  },
  "language_info": {
   "codemirror_mode": {
    "name": "ipython",
    "version": 3
   },
   "file_extension": ".py",
   "mimetype": "text/x-python",
   "name": "python",
   "nbconvert_exporter": "python",
   "pygments_lexer": "ipython3",
   "version": "3.6.13"
  }
 },
 "nbformat": 4,
 "nbformat_minor": 5
}
