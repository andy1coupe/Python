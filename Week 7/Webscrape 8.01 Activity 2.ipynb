{
 "cells": [
  {
   "cell_type": "markdown",
   "id": "13014b85",
   "metadata": {},
   "source": [
    "## 8.01 Activity 2"
   ]
  },
  {
   "cell_type": "code",
   "execution_count": 1,
   "id": "1311dd8a",
   "metadata": {},
   "outputs": [],
   "source": [
    "import pandas as pd\n",
    "import requests \n",
    "from bs4 import BeautifulSoup"
   ]
  },
  {
   "cell_type": "code",
   "execution_count": 2,
   "id": "19e219d1",
   "metadata": {},
   "outputs": [],
   "source": [
    "#Write code to print the following contents (not including the HTML tags, only human-readable text):\n",
    "\n",
    "#All the \"fun facts\".\n",
    "#The names of all the places.\n",
    "#The content (name and fact) of all the cities (only cities, not countries!)\n",
    "#The names (not facts!) of all the cities (not countries!)"
   ]
  },
  {
   "cell_type": "code",
   "execution_count": 3,
   "id": "c78c2089",
   "metadata": {},
   "outputs": [],
   "source": [
    "#1st step - create the html variable \n",
    "html_doc=\"\"\"\n",
    "<!DOCTYPE html>\n",
    "<html>\n",
    "  <head>\n",
    "    Geography\n",
    "  </head>\n",
    "  <body>\n",
    "    <div class=\"city\">\n",
    "      <h2>London</h2>\n",
    "      <p>London is the most popular tourist destination in the world.</p>\n",
    "    </div>\n",
    "\n",
    "    <div class=\"city\">\n",
    "      <h2>Paris</h2>\n",
    "      <p>Paris was originally a Roman City called Lutetia.</p>\n",
    "    </div>\n",
    "\n",
    "    <div class=\"country\">\n",
    "      <h2>Spain</h2>\n",
    "      <p>Spain produces 43,8% of all the world's Olive Oil.</p>\n",
    "    </div>\n",
    "  </body>\n",
    "</html>\n",
    "\"\"\"\n"
   ]
  },
  {
   "cell_type": "code",
   "execution_count": 4,
   "id": "a432ce4a",
   "metadata": {},
   "outputs": [],
   "source": [
    "#parse the html\n",
    "soup = BeautifulSoup(html_doc, 'html.parser')"
   ]
  },
  {
   "cell_type": "code",
   "execution_count": 5,
   "id": "c54a38ad",
   "metadata": {},
   "outputs": [
    {
     "name": "stdout",
     "output_type": "stream",
     "text": [
      "<!DOCTYPE html>\n",
      "<html>\n",
      " <head>\n",
      "  Geography\n",
      " </head>\n",
      " <body>\n",
      "  <div class=\"city\">\n",
      "   <h2>\n",
      "    London\n",
      "   </h2>\n",
      "   <p>\n",
      "    London is the most popular tourist destination in the world.\n",
      "   </p>\n",
      "  </div>\n",
      "  <div class=\"city\">\n",
      "   <h2>\n",
      "    Paris\n",
      "   </h2>\n",
      "   <p>\n",
      "    Paris was originally a Roman City called Lutetia.\n",
      "   </p>\n",
      "  </div>\n",
      "  <div class=\"country\">\n",
      "   <h2>\n",
      "    Spain\n",
      "   </h2>\n",
      "   <p>\n",
      "    Spain produces 43,8% of all the world's Olive Oil.\n",
      "   </p>\n",
      "  </div>\n",
      " </body>\n",
      "</html>\n",
      "\n"
     ]
    }
   ],
   "source": [
    "#print the formatted html\n",
    "print(soup.prettify())"
   ]
  },
  {
   "cell_type": "markdown",
   "id": "4e499ed1",
   "metadata": {},
   "source": [
    "## 2 navigate using html"
   ]
  },
  {
   "cell_type": "code",
   "execution_count": 6,
   "id": "edec6b7f",
   "metadata": {},
   "outputs": [
    {
     "data": {
      "text/plain": [
       "<p>London is the most popular tourist destination in the world.</p>"
      ]
     },
     "execution_count": 6,
     "metadata": {},
     "output_type": "execute_result"
    }
   ],
   "source": [
    "soup.p"
   ]
  },
  {
   "cell_type": "code",
   "execution_count": 7,
   "id": "683c1164",
   "metadata": {},
   "outputs": [],
   "source": [
    "p_tags=soup.find_all('p')"
   ]
  },
  {
   "cell_type": "code",
   "execution_count": 8,
   "id": "f07f5561",
   "metadata": {},
   "outputs": [
    {
     "data": {
      "text/plain": [
       "[<p>London is the most popular tourist destination in the world.</p>,\n",
       " <p>Paris was originally a Roman City called Lutetia.</p>,\n",
       " <p>Spain produces 43,8% of all the world's Olive Oil.</p>]"
      ]
     },
     "execution_count": 8,
     "metadata": {},
     "output_type": "execute_result"
    }
   ],
   "source": [
    "p_tags"
   ]
  },
  {
   "cell_type": "code",
   "execution_count": 9,
   "id": "8c252e5c",
   "metadata": {},
   "outputs": [
    {
     "name": "stdout",
     "output_type": "stream",
     "text": [
      "London is the most popular tourist destination in the world.\n",
      "Paris was originally a Roman City called Lutetia.\n",
      "Spain produces 43,8% of all the world's Olive Oil.\n"
     ]
    }
   ],
   "source": [
    "##All the \"fun facts\"\n",
    "for p in p_tags:\n",
    "    print(p.get_text()) "
   ]
  },
  {
   "cell_type": "code",
   "execution_count": 10,
   "id": "9fec27c2",
   "metadata": {},
   "outputs": [
    {
     "data": {
      "text/plain": [
       "<h2>London</h2>"
      ]
     },
     "execution_count": 10,
     "metadata": {},
     "output_type": "execute_result"
    }
   ],
   "source": [
    "soup.h2"
   ]
  },
  {
   "cell_type": "code",
   "execution_count": 19,
   "id": "a5bae33d",
   "metadata": {},
   "outputs": [],
   "source": [
    "h_tags=soup.find_all('h2')"
   ]
  },
  {
   "cell_type": "code",
   "execution_count": 21,
   "id": "dfc68514",
   "metadata": {},
   "outputs": [
    {
     "data": {
      "text/plain": [
       "[<h2>London</h2>, <h2>Paris</h2>, <h2>Spain</h2>]"
      ]
     },
     "execution_count": 21,
     "metadata": {},
     "output_type": "execute_result"
    }
   ],
   "source": [
    "##All the places\n",
    "h_tags"
   ]
  },
  {
   "cell_type": "code",
   "execution_count": 19,
   "id": "4a0fd4e6",
   "metadata": {},
   "outputs": [
    {
     "name": "stdout",
     "output_type": "stream",
     "text": [
      "London\n",
      "Paris\n",
      "Spain\n"
     ]
    }
   ],
   "source": [
    "for h2 in h_tags:\n",
    "    print(h2.get_text()) "
   ]
  },
  {
   "cell_type": "code",
   "execution_count": 26,
   "id": "f01b7dea",
   "metadata": {},
   "outputs": [
    {
     "name": "stdout",
     "output_type": "stream",
     "text": [
      "\n",
      "London\n",
      "London is the most popular tourist destination in the world.\n",
      "\n",
      "\n",
      "Paris\n",
      "Paris was originally a Roman City called Lutetia.\n",
      "\n"
     ]
    }
   ],
   "source": [
    "#The content (name and fact) of all the cities (only cities, not countries!)\n",
    "#easier to use CSS selector\n",
    "\n",
    "for i in soup.select('.city'):\n",
    "    print(i.get_text())\n",
    "\n"
   ]
  },
  {
   "cell_type": "code",
   "execution_count": 27,
   "id": "0c5632d0",
   "metadata": {},
   "outputs": [
    {
     "name": "stdout",
     "output_type": "stream",
     "text": [
      "London\n",
      "Paris\n"
     ]
    }
   ],
   "source": [
    "#CSS method\n",
    "#name / cities\n",
    "for i in soup.select('.city'):\n",
    "    print(i.h2.get_text())\n"
   ]
  },
  {
   "cell_type": "code",
   "execution_count": 30,
   "id": "963d2df2",
   "metadata": {},
   "outputs": [
    {
     "name": "stdout",
     "output_type": "stream",
     "text": [
      "London\n",
      "Paris\n"
     ]
    }
   ],
   "source": [
    "#HTML METHOD \n",
    "#name / cities\n",
    "for i in soup.find_all('div',{'class':'city'}):\n",
    "    print(i.h2.get_text())"
   ]
  },
  {
   "cell_type": "code",
   "execution_count": null,
   "id": "83b02f0c",
   "metadata": {},
   "outputs": [],
   "source": []
  }
 ],
 "metadata": {
  "kernelspec": {
   "display_name": "Python 3",
   "language": "python",
   "name": "python3"
  },
  "language_info": {
   "codemirror_mode": {
    "name": "ipython",
    "version": 3
   },
   "file_extension": ".py",
   "mimetype": "text/x-python",
   "name": "python",
   "nbconvert_exporter": "python",
   "pygments_lexer": "ipython3",
   "version": "3.6.13"
  }
 },
 "nbformat": 4,
 "nbformat_minor": 5
}
