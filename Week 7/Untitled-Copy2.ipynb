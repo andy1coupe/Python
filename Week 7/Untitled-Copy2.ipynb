{
 "cells": [
  {
   "cell_type": "code",
   "execution_count": 20,
   "id": "53d81fde",
   "metadata": {},
   "outputs": [],
   "source": [
    "from yt_iframe import yt"
   ]
  },
  {
   "cell_type": "code",
   "execution_count": 22,
   "id": "af0e2860",
   "metadata": {},
   "outputs": [
    {
     "name": "stdout",
     "output_type": "stream",
     "text": [
      "What is your favorite song? as it was\n",
      "The song you choose is hot in the billboard 100! Maybe you will like to try:  young harleezy\n"
     ]
    },
    {
     "data": {
      "text/plain": [
       "'<iframe width=\"560\" height=\"315\" src=\"https://www.youtube.com/embed/tEYVx6hWgyc\" frameborder=\"0\" allow=\"accelerometer; autoplay; encrypted-media; gyroscope; picture-in-picture\" allowfullscreen></iframe>'"
      ]
     },
     "execution_count": 22,
     "metadata": {},
     "output_type": "execute_result"
    }
   ],
   "source": [
    "import pandas as pd\n",
    "import requests \n",
    "import re\n",
    "import urllib.request\n",
    "\n",
    "from IPython.display import YouTubeVideo\n",
    "import random\n",
    "from bs4 import BeautifulSoup\n",
    "from tqdm.notebook import tqdm\n",
    "billboard100=pd.read_csv('billboard_100.csv')\n",
    "billboard100 = billboard100.drop('Unnamed: 0', axis = 1)\n",
    "bill100 = billboard100\n",
    "bill100['title'] = bill100['title'].str.lower()\n",
    "bill100['artist'] = bill100['artist'].str.lower()\n",
    "bill100['title'] = bill100['title'].str.lstrip()\n",
    "bill100['title'] = bill100['title'].str.rstrip()\n",
    "song_title = bill100['title'].values.tolist()\n",
    "song_recomender=input('What is your favorite song? ').lstrip().rstrip().lower()\n",
    "if len(song_recomender) < 2:\n",
    "    print('Not a song, please try again')\n",
    "elif song_recomender in song_title:\n",
    "    new_song=random.choice(song_title)\n",
    "    print('The song you choose is hot in the billboard 100! Maybe you will like to try: ', new_song)\n",
    "else:\n",
    "    print('You song is not hot in the billboard 100, we have no recomendations')\n",
    "\n",
    "html = urllib.request.urlopen('https://www.youtube.com/results?search_query='+new_song.replace(\" \",\"+\"))\n",
    "video_ids = re.findall(r\"watch\\?v=(\\S{11})\",html.read().decode())\n",
    "url = (\"https://www.youtube.com/watch?v=\" + video_ids[0])\n",
    "width = '560' # (Optional)\n",
    "height = '315' # (Optional)\n",
    "iframe = yt.video(url, width=width, height=height)\n",
    "yt.video(url)\n"
   ]
  },
  {
   "cell_type": "code",
   "execution_count": null,
   "id": "408004a1",
   "metadata": {},
   "outputs": [],
   "source": []
  }
 ],
 "metadata": {
  "kernelspec": {
   "display_name": "Python 3",
   "language": "python",
   "name": "python3"
  },
  "language_info": {
   "codemirror_mode": {
    "name": "ipython",
    "version": 3
   },
   "file_extension": ".py",
   "mimetype": "text/x-python",
   "name": "python",
   "nbconvert_exporter": "python",
   "pygments_lexer": "ipython3",
   "version": "3.6.13"
  }
 },
 "nbformat": 4,
 "nbformat_minor": 5
}
